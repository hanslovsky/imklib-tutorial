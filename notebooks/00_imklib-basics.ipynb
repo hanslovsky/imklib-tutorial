{
 "cells": [
  {
   "cell_type": "markdown",
   "metadata": {},
   "source": [
    "# imklib\n",
    "\n",
    "imklib is an experimental library to explore the use of Kotlin extension functions and operator overloading for a NumPy like user experience for the [ImgLib2](https://github.com/imglib/imglib2) Java multi-dimensional image processing library."
   ]
  },
  {
   "cell_type": "markdown",
   "metadata": {},
   "source": [
    "## Kotlin Operator Overloading\n",
    "\n",
    "Operators in Kotlin can be [overloaded](https://kotlinlang.org/docs/reference/operator-overloading.html) for arbitrary types. Certain functions can be marked with the `operator` keyword to overload associated operators, for example to overload the [`+` binary operator](https://kotlinlang.org/docs/reference/operator-overloading.html#arithmetic):\n",
    "```kotlin\n",
    "operator fun plus(increment: T): U\n",
    "```\n"
   ]
  },
  {
   "cell_type": "code",
   "execution_count": 1,
   "metadata": {},
   "outputs": [
    {
     "data": {
      "text/plain": [
       "null"
      ]
     },
     "execution_count": 1,
     "metadata": {},
     "output_type": "execute_result"
    }
   ],
   "source": [
    "class Apple\n",
    "class Orange\n",
    "data class FruitBowl(var apples: Int = 0, var oranges: Int = 0) {\n",
    "\n",
    "    private val someNumber = 1\n",
    "\n",
    "    operator fun plusAssign(apple: Apple) {\n",
    "        apples += 1\n",
    "    }\n",
    "    operator fun plusAssign(orange: Orange) {\n",
    "        oranges += 1\n",
    "    }\n",
    "}"
   ]
  },
  {
   "cell_type": "code",
   "execution_count": 2,
   "metadata": {},
   "outputs": [
    {
     "name": "stdout",
     "output_type": "stream",
     "text": [
      "FruitBowl(apples=0, oranges=10)\n"
     ]
    },
    {
     "data": {
      "text/plain": [
       "FruitBowl(apples=2, oranges=11)"
      ]
     },
     "execution_count": 2,
     "metadata": {},
     "output_type": "execute_result"
    }
   ],
   "source": [
    "val bowl = FruitBowl(oranges=10)\n",
    "println(bowl)\n",
    "bowl += Apple()\n",
    "bowl += Apple()\n",
    "bowl += Orange()\n",
    "bowl"
   ]
  },
  {
   "cell_type": "markdown",
   "metadata": {},
   "source": [
    "## Kotlin Extension Functions\n",
    "\n",
    "Operator overloading is cool but I cannot change upstream classes!! Also, maybe upstream classes are implemented in Java!! Is operator overloading useless? No! Extension functions can be used to add arbitrary methods to existing classes without modifying upstream code:"
   ]
  },
  {
   "cell_type": "code",
   "execution_count": 3,
   "metadata": {},
   "outputs": [
    {
     "data": {
      "text/plain": [
       "FruitBowl(apples=2, oranges=10)"
      ]
     },
     "execution_count": 3,
     "metadata": {},
     "output_type": "execute_result"
    }
   ],
   "source": [
    "operator fun FruitBowl.minusAssign(apple: Apple) {\n",
    "    apples -= 1\n",
    "}\n",
    "\n",
    "operator fun FruitBowl.minusAssign(orange: Orange) {\n",
    "    oranges -= 1\n",
    "}\n",
    "\n",
    "bowl -= Orange()\n",
    "bowl"
   ]
  },
  {
   "cell_type": "markdown",
   "metadata": {},
   "source": [
    "### Caveats\n",
    " - Internally, extension functions are static methods that take the class object as first argument. Private members or methods cannot be accessed!"
   ]
  },
  {
   "cell_type": "code",
   "execution_count": 4,
   "metadata": {},
   "outputs": [
    {
     "ename": "error",
     "evalue": " cannot access 'someNumber'",
     "output_type": "error",
     "traceback": [
      "\u001b[1;31merror: cannot access 'someNumber': it is private in 'FruitBowl'\u001b[0;0m",
      "\u001b[1;31mfun FruitBowl.someExtension() = this.someNumber\u001b[0;0m",
      "\u001b[1;31m                                     ^\u001b[0;0m"
     ]
    }
   ],
   "source": [
    "fun FruitBowl.someExtension() = this.someNumber"
   ]
  },
  {
   "cell_type": "markdown",
   "metadata": {},
   "source": [
    " - Member functions always take precedence over extension functions: Member functions cannot be overridden/replaced by extension functions"
   ]
  },
  {
   "cell_type": "code",
   "execution_count": 5,
   "metadata": {},
   "outputs": [
    {
     "name": "stdout",
     "output_type": "stream",
     "text": [
      "With extension function defined in this cell, would expect FruitBowl(apples=0, oranges=1)\n"
     ]
    },
    {
     "data": {
      "text/plain": [
       "FruitBowl(apples=1, oranges=0)"
      ]
     },
     "execution_count": 5,
     "metadata": {},
     "output_type": "execute_result"
    }
   ],
   "source": [
    "operator fun FruitBowl.plusAssign(apple: Apple) {\n",
    "    oranges += 1\n",
    "}\n",
    "val bowl = FruitBowl()\n",
    "bowl += Apple()\n",
    "println(\"With extension function defined in this cell, would expect ${FruitBowl(oranges=1)}\")\n",
    "bowl"
   ]
  },
  {
   "cell_type": "markdown",
   "metadata": {},
   "source": [
    "--------------------"
   ]
  },
  {
   "cell_type": "markdown",
   "metadata": {},
   "source": [
    "### Use Kotlin operator overloading and extension functions for NumPy style tensor operations in ImgLib2!!!!\n",
    " - experimental [imklib](https://github.com/hanslovsky/imklib)\n",
    " - imklib [examples](https://github.com/hanslovsky/imklib/tree/master/src/test/kotlin/net/imglib2/imklib/examples)\n",
    " - also cool with [kscript](https://github.com/holgerbrandl/kscript), [examples](https://github.com/hanslovsky/imklib/tree/026cd65946defc21b9b53161ea348691f3b4f22a/examples/kscript)"
   ]
  },
  {
   "cell_type": "markdown",
   "metadata": {},
   "source": [
    " - Add scijava and local maven repositories and maven dependencies"
   ]
  },
  {
   "cell_type": "code",
   "execution_count": 6,
   "metadata": {},
   "outputs": [
    {
     "name": "stdout",
     "output_type": "stream",
     "text": [
      "Added new repo: maven.scijava.org\n",
      "Added new repo: mvnLocal\n"
     ]
    }
   ],
   "source": [
    "%classpath config resolver maven.scijava.org https://maven.scijava.org/content/groups/public\n",
    "%classpath config resolver mvnLocal"
   ]
  },
  {
   "cell_type": "code",
   "execution_count": 7,
   "metadata": {},
   "outputs": [
    {
     "data": {
      "application/vnd.jupyter.widget-view+json": {
       "model_id": "",
       "version_major": 2,
       "version_minor": 0
      },
      "method": "display_data"
     },
     "metadata": {},
     "output_type": "display_data"
    },
    {
     "data": {
      "application/vnd.jupyter.widget-view+json": {
       "model_id": "befbd049-9d72-4f16-ba13-a0297180e904",
       "version_major": 2,
       "version_minor": 0
      },
      "method": "display_data"
     },
     "metadata": {},
     "output_type": "display_data"
    }
   ],
   "source": [
    "%%classpath add mvn\n",
    "net.imglib2 imglib2 5.7.0\n",
    "net.imglib2 imklib 0.1.1-SNAPSHOT"
   ]
  },
  {
   "cell_type": "markdown",
   "metadata": {},
   "source": [
    " - Import all extensions that are available in `imklib`:"
   ]
  },
  {
   "cell_type": "code",
   "execution_count": 8,
   "metadata": {},
   "outputs": [
    {
     "data": {
      "text/plain": [
       "null"
      ]
     },
     "execution_count": 8,
     "metadata": {},
     "output_type": "execute_result"
    }
   ],
   "source": [
    "import net.imglib2.imklib.extensions.*"
   ]
  },
  {
   "cell_type": "markdown",
   "metadata": {},
   "source": [
    " - Some arithmetic operations available for `RealType`, e.g:"
   ]
  },
  {
   "cell_type": "code",
   "execution_count": 9,
   "metadata": {},
   "outputs": [
    {
     "data": {
      "text/plain": [
       "null"
      ]
     },
     "execution_count": 9,
     "metadata": {},
     "output_type": "execute_result"
    }
   ],
   "source": [
    "import net.imglib2.type.numeric.RealType\n",
    "import net.imglib2.type.numeric.real.DoubleType\n",
    "\n",
    "fun <T: RealType<T>> add(dt1: T) {\n",
    "    val dt2 = dt1 + dt1\n",
    "    val dt3 = dt1 + dt2\n",
    "    val dt4 = dt3 + 1.0\n",
    "//    val dt5 = 123 + dt4\n",
    "    println(\"Added:      $dt1 $dt2 $dt3 $dt4\")// $dt5\")\n",
    "}\n",
    "\n",
    "fun <T: RealType<T>> subtract(dt1: T) {\n",
    "    val dt2 = dt1 - 2.0\n",
    "    val dt3 = dt1 - dt2\n",
    "    val dt4 = dt3 - 1.0\n",
    "//    val dt5 = 123 - dt4\n",
    "    println(\"Subtracted: $dt1 $dt2 $dt3 $dt4\")// $dt5\")\n",
    "}\n",
    "\n",
    "fun <T: RealType<T>> multiply(dt1: T) {\n",
    "    val dt2 = dt1 * dt1\n",
    "    val dt3 = dt1 * dt2\n",
    "    val dt4 = dt3 * 2.0\n",
    "//    val dt5 = 123 * dt4\n",
    "    println(\"Multiplied: $dt1 $dt2 $dt3 $dt4\")// $dt5\")\n",
    "}\n",
    "\n",
    "fun <T: RealType<T>> divide(dt1: T) {\n",
    "    val dt2 = dt1 / 3.0\n",
    "    val dt3 = dt1 / dt2\n",
    "    println(\"Divided:    $dt1 $dt2 $dt3\")// $dt4 $dt5\")\n",
    "}"
   ]
  },
  {
   "cell_type": "code",
   "execution_count": 10,
   "metadata": {},
   "outputs": [
    {
     "name": "stdout",
     "output_type": "stream",
     "text": [
      "Added:      1.0 2.0 3.0 4.0\n",
      "Subtracted: 2.0 0.0 2.0 1.0\n",
      "Multiplied: 0.133153 0.017729721408999997 0.0023607655947725766 0.004721531189545153\n",
      "Divided:    3.0 45.666666666666664 kotlin.Unit\n"
     ]
    },
    {
     "data": {
      "text/plain": [
       "null"
      ]
     },
     "execution_count": 10,
     "metadata": {},
     "output_type": "execute_result"
    }
   ],
   "source": [
    "add(DoubleType(1.0))\n",
    "subtract(DoubleType(2.0))\n",
    "multiply(DoubleType(.133153))\n",
    "divide(DoubleType(137.0))"
   ]
  },
  {
   "cell_type": "markdown",
   "metadata": {},
   "source": [
    "Caveat: What is unexpected in the last output line? Name clash between `net.imglib2.type.operators.Div.div` and Kotlin [binary division operator `div`](https://kotlinlang.org/docs/reference/operator-overloading.html#arithmetic)"
   ]
  },
  {
   "cell_type": "code",
   "execution_count": 11,
   "metadata": {},
   "outputs": [
    {
     "data": {
      "text/plain": [
       "null"
      ]
     },
     "execution_count": 11,
     "metadata": {},
     "output_type": "execute_result"
    }
   ],
   "source": [
    "import net.imglib2.RandomAccessibleInterval\n",
    "import net.imglib2.imklib.extensions.*\n",
    "import net.imglib2.img.array.ArrayImgs\n",
    "import net.imglib2.type.numeric.real.DoubleType\n",
    "import net.imglib2.util.Intervals"
   ]
  },
  {
   "cell_type": "markdown",
   "metadata": {},
   "source": [
    " - Access image voxels directly! Warning: This is a convenience method and should be used only for sparse voxel access."
   ]
  },
  {
   "cell_type": "code",
   "execution_count": 12,
   "metadata": {},
   "outputs": [
    {
     "name": "stdout",
     "output_type": "stream",
     "text": [
      "[1.0, 2.0, 3.0, 4.0, 5.0, 6.0, 7.0, 8.0, 9.0, 10.0, 11.0, 12.0]\n",
      "5.0\n",
      "2.0\n"
     ]
    },
    {
     "data": {
      "text/plain": [
       "ArrayImg [4x3]"
      ]
     },
     "execution_count": 12,
     "metadata": {},
     "output_type": "execute_result"
    }
   ],
   "source": [
    "val img1 = ArrayImgs.doubles(\n",
    "            doubleArrayOf(\n",
    "                    1.0,  2.0,  3.0,  4.0,\n",
    "                    5.0,  6.0,  7.0,  8.0,\n",
    "                    9.0, 10.0, 11.0, 12.0),\n",
    "            4, 3) as RandomAccessibleInterval<DoubleType>\n",
    "println(\"${img1.iterable().map { it.realDouble }}\")\n",
    "println(img1[0, 1])\n",
    "println(img1[1, 0])\n",
    "img1"
   ]
  },
  {
   "cell_type": "markdown",
   "metadata": {},
   "source": [
    " - Arithmetic operations between images and scalars:"
   ]
  },
  {
   "cell_type": "code",
   "execution_count": 13,
   "metadata": {},
   "outputs": [
    {
     "name": "stdout",
     "output_type": "stream",
     "text": [
      "[2.0, 3.0, 4.0, 5.0, 6.0, 7.0, 8.0, 9.0, 10.0, 11.0, 12.0, 13.0]\n",
      "[3.0, 6.0, 9.0, 12.0, 15.0, 18.0, 21.0, 24.0, 27.0, 30.0, 33.0, 36.0]\n"
     ]
    },
    {
     "data": {
      "text/plain": [
       "null"
      ]
     },
     "execution_count": 13,
     "metadata": {},
     "output_type": "execute_result"
    }
   ],
   "source": [
    "val img2 = img1 + 1.0\n",
    "println(\"${img2.iterable().map { it.realDouble }}\")\n",
    "val img2_1 = img1 * 3.0\n",
    "println(\"${img2_1.iterable().map { it.realDouble }}\")"
   ]
  },
  {
   "cell_type": "markdown",
   "metadata": {},
   "source": [
    " - Slicing: Rows"
   ]
  },
  {
   "cell_type": "code",
   "execution_count": 14,
   "metadata": {},
   "outputs": [
    {
     "name": "stdout",
     "output_type": "stream",
     "text": [
      "dim 1 at 0: IntervalView [(0) -- (3) = 4] [1.0, 2.0, 3.0, 4.0]\n",
      "dim 1 at 1: IntervalView [(0) -- (3) = 4] [5.0, 6.0, 7.0, 8.0]\n",
      "dim 1 at 2: IntervalView [(0) -- (3) = 4] [9.0, 10.0, 11.0, 12.0]\n"
     ]
    },
    {
     "data": {
      "text/plain": [
       "null"
      ]
     },
     "execution_count": 14,
     "metadata": {},
     "output_type": "execute_result"
    }
   ],
   "source": [
    "(0 until img1.dimension(1)).forEach {\n",
    "    val img = img1[AX, it]\n",
    "    println(\"dim 1 at $it: $img ${img.iterable().map { it.realDouble }}\")\n",
    "}"
   ]
  },
  {
   "cell_type": "markdown",
   "metadata": {},
   "source": [
    "   - Slicing: Columns"
   ]
  },
  {
   "cell_type": "code",
   "execution_count": 15,
   "metadata": {},
   "outputs": [
    {
     "name": "stdout",
     "output_type": "stream",
     "text": [
      "dim 0 at 0: IntervalView [(0, 0) -- (0, 2) = 1x3] [1.0, 5.0, 9.0]\n",
      "dim 0 at 1: IntervalView [(1, 0) -- (1, 2) = 1x3] [2.0, 6.0, 10.0]\n",
      "dim 0 at 2: IntervalView [(2, 0) -- (2, 2) = 1x3] [3.0, 7.0, 11.0]\n",
      "dim 0 at 3: IntervalView [(3, 0) -- (3, 2) = 1x3] [4.0, 8.0, 12.0]\n"
     ]
    },
    {
     "data": {
      "text/plain": [
       "null"
      ]
     },
     "execution_count": 15,
     "metadata": {},
     "output_type": "execute_result"
    }
   ],
   "source": [
    "(0 until img1.dimension(0)).forEach {\n",
    "    val img = img1[AX(it, it), AX]\n",
    "    println(\"dim 0 at $it: $img ${img.iterable().map { it.realDouble }}\")\n",
    "}"
   ]
  },
  {
   "cell_type": "markdown",
   "metadata": {},
   "source": [
    " - sub-sampling"
   ]
  },
  {
   "cell_type": "code",
   "execution_count": 16,
   "metadata": {},
   "outputs": [
    {
     "name": "stdout",
     "output_type": "stream",
     "text": [
      "[0, 0] [1, 2] [1.0, 3.0, 5.0, 7.0, 9.0, 11.0]\n"
     ]
    },
    {
     "data": {
      "text/plain": [
       "null"
      ]
     },
     "execution_count": 16,
     "metadata": {},
     "output_type": "execute_result"
    }
   ],
   "source": [
    "val img3 = img1[AX..2]\n",
    "println(\"${Intervals.minAsLongArray(img3).map { it }} ${Intervals.maxAsLongArray(img3).map { it }} ${img3.iterable().map { it.realDouble }}\")"
   ]
  },
  {
   "cell_type": "markdown",
   "metadata": {},
   "source": [
    " - Element-wise arithmetic operations between images:"
   ]
  },
  {
   "cell_type": "code",
   "execution_count": 17,
   "metadata": {},
   "outputs": [
    {
     "name": "stdout",
     "output_type": "stream",
     "text": [
      "[0.5, 0.6666666666666666, 0.75, 0.8, 0.8333333333333334, 0.8571428571428571, 0.875, 0.8888888888888888, 0.9, 0.9090909090909091, 0.9166666666666666, 0.9230769230769231]\n",
      "[1.1051709180756477, 1.2214027581601699, 1.3498588075760032, 1.4918246976412703, 1.6487212707001282, 1.8221188003905089, 2.0137527074704766, 2.225540928492468, 2.45960311115695, 2.718281828459045, 3.0041660239464334, 3.3201169227365472]\n"
     ]
    },
    {
     "data": {
      "text/plain": [
       "null"
      ]
     },
     "execution_count": 17,
     "metadata": {},
     "output_type": "execute_result"
    }
   ],
   "source": [
    "// element-wise division\n",
    "val img4 = img1 / img2\n",
    "println(\"${img4.iterable().map { it.realDouble }}\")\n",
    "\n",
    "// elemnt-wise division by scalar followed by exponantiation\n",
    "val img5 = (img1 / 10.0).exp()\n",
    "println(\"${img5.iterable().map { it.realDouble }}\")\n",
    "\n",
    "// add random gaussian noise to each element\n",
    "val rng = java.util.Random(100)\n",
    "val img6 = img5.apply({it + 0.1*rng.nextGaussian()}, DoubleType())"
   ]
  },
  {
   "cell_type": "markdown",
   "metadata": {},
   "source": [
    " - Cool beakerx/jupyter feature:"
   ]
  },
  {
   "cell_type": "code",
   "execution_count": 18,
   "metadata": {},
   "outputs": [
    {
     "data": {
      "application/vnd.jupyter.widget-view+json": {
       "model_id": "7a9a5231-3463-487b-9851-91e0bebaa03f",
       "version_major": 2,
       "version_minor": 0
      },
      "method": "display_data"
     },
     "metadata": {},
     "output_type": "display_data"
    }
   ],
   "source": [
    "val plot = Plot()\n",
    "plot.setTitle(\"Exponential\")\n",
    "\n",
    "val line = Line()\n",
    "line.setY(img5.iterable().map {it.realDouble})\n",
    "line.setX(img4.iterable().map {it.realDouble})\n",
    "plot.add(line)\n",
    "\n",
    "val line2 = Line()\n",
    "line2.setY(img6.iterable().map {it.realDouble})\n",
    "line2.setX(img4.iterable().map {it.realDouble})\n",
    "plot.add(line2)"
   ]
  },
  {
   "cell_type": "code",
   "execution_count": 19,
   "metadata": {},
   "outputs": [
    {
     "data": {
      "application/vnd.jupyter.widget-view+json": {
       "model_id": "5f5b1fd4-77f3-4f3b-9954-be8edbd8ca87",
       "version_major": 2,
       "version_minor": 0
      },
      "method": "display_data"
     },
     "metadata": {},
     "output_type": "display_data"
    }
   ],
   "source": [
    "val plot = Plot()\n",
    "plot.setTitle(\"x/(x+1)\")\n",
    "\n",
    "val line = Line()\n",
    "line.setY(img4.iterable().map {it.realDouble})\n",
    "line.setX(img1.iterable().map {it.realDouble})\n",
    "plot.add(line)"
   ]
  }
 ],
 "metadata": {
  "kernelspec": {
   "display_name": "Kotlin",
   "language": "kotlin",
   "name": "kotlin"
  },
  "language_info": {
   "codemirror_mode": "kotlin",
   "file_extension": ".kt",
   "mimetype": "",
   "name": "Kotlin",
   "nbconverter_exporter": "",
   "version": "1.2.21"
  },
  "toc": {
   "base_numbering": 1,
   "nav_menu": {},
   "number_sections": false,
   "sideBar": false,
   "skip_h1_title": false,
   "title_cell": "Table of Contents",
   "title_sidebar": "Contents",
   "toc_cell": false,
   "toc_position": {},
   "toc_section_display": false,
   "toc_window_display": false
  }
 },
 "nbformat": 4,
 "nbformat_minor": 2
}
